{
  "nbformat": 4,
  "nbformat_minor": 0,
  "metadata": {
    "colab": {
      "name": "Assignment-6",
      "provenance": [],
      "authorship_tag": "ABX9TyNTvfrf8rRjfvppZfZq+cQK",
      "include_colab_link": true
    },
    "kernelspec": {
      "name": "python3",
      "display_name": "Python 3"
    },
    "language_info": {
      "name": "python"
    }
  },
  "cells": [
    {
      "cell_type": "markdown",
      "metadata": {
        "id": "view-in-github",
        "colab_type": "text"
      },
      "source": [
        "<a href=\"https://colab.research.google.com/github/18K-480/NNDL/blob/main/Assignment_6.ipynb\" target=\"_parent\"><img src=\"https://colab.research.google.com/assets/colab-badge.svg\" alt=\"Open In Colab\"/></a>"
      ]
    },
    {
      "cell_type": "code",
      "metadata": {
        "id": "b82hGySYQyOu"
      },
      "source": [
        "import numpy as np\n",
        "import matplotlib.pyplot as plt\n",
        "import pandas as pd\n",
        "from sklearn.preprocessing import minmax_scale\n",
        "from sklearn.model_selection import train_test_split\n",
        "import seaborn as sns\n",
        "from scipy import stats\n"
      ],
      "execution_count": 22,
      "outputs": []
    },
    {
      "cell_type": "code",
      "metadata": {
        "colab": {
          "base_uri": "https://localhost:8080/",
          "height": 215
        },
        "id": "0c4zFqJqSIAo",
        "outputId": "daf16343-f082-4091-d33a-b2b4a5ce924e"
      },
      "source": [
        "data = pd.read_csv(\"/content/kc_house_data.csv\")\n",
        "data.head()"
      ],
      "execution_count": 23,
      "outputs": [
        {
          "output_type": "execute_result",
          "data": {
            "text/html": [
              "<div>\n",
              "<style scoped>\n",
              "    .dataframe tbody tr th:only-of-type {\n",
              "        vertical-align: middle;\n",
              "    }\n",
              "\n",
              "    .dataframe tbody tr th {\n",
              "        vertical-align: top;\n",
              "    }\n",
              "\n",
              "    .dataframe thead th {\n",
              "        text-align: right;\n",
              "    }\n",
              "</style>\n",
              "<table border=\"1\" class=\"dataframe\">\n",
              "  <thead>\n",
              "    <tr style=\"text-align: right;\">\n",
              "      <th></th>\n",
              "      <th>id</th>\n",
              "      <th>date</th>\n",
              "      <th>price</th>\n",
              "      <th>bedrooms</th>\n",
              "      <th>bathrooms</th>\n",
              "      <th>sqft_living</th>\n",
              "      <th>sqft_lot</th>\n",
              "      <th>floors</th>\n",
              "      <th>waterfront</th>\n",
              "      <th>view</th>\n",
              "      <th>condition</th>\n",
              "      <th>grade</th>\n",
              "      <th>sqft_above</th>\n",
              "      <th>sqft_basement</th>\n",
              "      <th>yr_built</th>\n",
              "      <th>yr_renovated</th>\n",
              "      <th>zipcode</th>\n",
              "      <th>lat</th>\n",
              "      <th>long</th>\n",
              "      <th>sqft_living15</th>\n",
              "      <th>sqft_lot15</th>\n",
              "    </tr>\n",
              "  </thead>\n",
              "  <tbody>\n",
              "    <tr>\n",
              "      <th>0</th>\n",
              "      <td>7129300520</td>\n",
              "      <td>20141013T000000</td>\n",
              "      <td>221900.0</td>\n",
              "      <td>3</td>\n",
              "      <td>1.00</td>\n",
              "      <td>1180</td>\n",
              "      <td>5650</td>\n",
              "      <td>1.0</td>\n",
              "      <td>0</td>\n",
              "      <td>0</td>\n",
              "      <td>3</td>\n",
              "      <td>7</td>\n",
              "      <td>1180</td>\n",
              "      <td>0</td>\n",
              "      <td>1955</td>\n",
              "      <td>0</td>\n",
              "      <td>98178</td>\n",
              "      <td>47.5112</td>\n",
              "      <td>-122.257</td>\n",
              "      <td>1340</td>\n",
              "      <td>5650</td>\n",
              "    </tr>\n",
              "    <tr>\n",
              "      <th>1</th>\n",
              "      <td>6414100192</td>\n",
              "      <td>20141209T000000</td>\n",
              "      <td>538000.0</td>\n",
              "      <td>3</td>\n",
              "      <td>2.25</td>\n",
              "      <td>2570</td>\n",
              "      <td>7242</td>\n",
              "      <td>2.0</td>\n",
              "      <td>0</td>\n",
              "      <td>0</td>\n",
              "      <td>3</td>\n",
              "      <td>7</td>\n",
              "      <td>2170</td>\n",
              "      <td>400</td>\n",
              "      <td>1951</td>\n",
              "      <td>1991</td>\n",
              "      <td>98125</td>\n",
              "      <td>47.7210</td>\n",
              "      <td>-122.319</td>\n",
              "      <td>1690</td>\n",
              "      <td>7639</td>\n",
              "    </tr>\n",
              "    <tr>\n",
              "      <th>2</th>\n",
              "      <td>5631500400</td>\n",
              "      <td>20150225T000000</td>\n",
              "      <td>180000.0</td>\n",
              "      <td>2</td>\n",
              "      <td>1.00</td>\n",
              "      <td>770</td>\n",
              "      <td>10000</td>\n",
              "      <td>1.0</td>\n",
              "      <td>0</td>\n",
              "      <td>0</td>\n",
              "      <td>3</td>\n",
              "      <td>6</td>\n",
              "      <td>770</td>\n",
              "      <td>0</td>\n",
              "      <td>1933</td>\n",
              "      <td>0</td>\n",
              "      <td>98028</td>\n",
              "      <td>47.7379</td>\n",
              "      <td>-122.233</td>\n",
              "      <td>2720</td>\n",
              "      <td>8062</td>\n",
              "    </tr>\n",
              "    <tr>\n",
              "      <th>3</th>\n",
              "      <td>2487200875</td>\n",
              "      <td>20141209T000000</td>\n",
              "      <td>604000.0</td>\n",
              "      <td>4</td>\n",
              "      <td>3.00</td>\n",
              "      <td>1960</td>\n",
              "      <td>5000</td>\n",
              "      <td>1.0</td>\n",
              "      <td>0</td>\n",
              "      <td>0</td>\n",
              "      <td>5</td>\n",
              "      <td>7</td>\n",
              "      <td>1050</td>\n",
              "      <td>910</td>\n",
              "      <td>1965</td>\n",
              "      <td>0</td>\n",
              "      <td>98136</td>\n",
              "      <td>47.5208</td>\n",
              "      <td>-122.393</td>\n",
              "      <td>1360</td>\n",
              "      <td>5000</td>\n",
              "    </tr>\n",
              "    <tr>\n",
              "      <th>4</th>\n",
              "      <td>1954400510</td>\n",
              "      <td>20150218T000000</td>\n",
              "      <td>510000.0</td>\n",
              "      <td>3</td>\n",
              "      <td>2.00</td>\n",
              "      <td>1680</td>\n",
              "      <td>8080</td>\n",
              "      <td>1.0</td>\n",
              "      <td>0</td>\n",
              "      <td>0</td>\n",
              "      <td>3</td>\n",
              "      <td>8</td>\n",
              "      <td>1680</td>\n",
              "      <td>0</td>\n",
              "      <td>1987</td>\n",
              "      <td>0</td>\n",
              "      <td>98074</td>\n",
              "      <td>47.6168</td>\n",
              "      <td>-122.045</td>\n",
              "      <td>1800</td>\n",
              "      <td>7503</td>\n",
              "    </tr>\n",
              "  </tbody>\n",
              "</table>\n",
              "</div>"
            ],
            "text/plain": [
              "           id             date     price  ...     long  sqft_living15  sqft_lot15\n",
              "0  7129300520  20141013T000000  221900.0  ... -122.257           1340        5650\n",
              "1  6414100192  20141209T000000  538000.0  ... -122.319           1690        7639\n",
              "2  5631500400  20150225T000000  180000.0  ... -122.233           2720        8062\n",
              "3  2487200875  20141209T000000  604000.0  ... -122.393           1360        5000\n",
              "4  1954400510  20150218T000000  510000.0  ... -122.045           1800        7503\n",
              "\n",
              "[5 rows x 21 columns]"
            ]
          },
          "metadata": {
            "tags": []
          },
          "execution_count": 23
        }
      ]
    },
    {
      "cell_type": "code",
      "metadata": {
        "colab": {
          "base_uri": "https://localhost:8080/"
        },
        "id": "FL-df4xjSIB0",
        "outputId": "3b029ddb-c43c-4aa1-a127-5725ac424b5c"
      },
      "source": [
        "data.info()"
      ],
      "execution_count": 24,
      "outputs": [
        {
          "output_type": "stream",
          "text": [
            "<class 'pandas.core.frame.DataFrame'>\n",
            "RangeIndex: 21613 entries, 0 to 21612\n",
            "Data columns (total 21 columns):\n",
            " #   Column         Non-Null Count  Dtype  \n",
            "---  ------         --------------  -----  \n",
            " 0   id             21613 non-null  int64  \n",
            " 1   date           21613 non-null  object \n",
            " 2   price          21613 non-null  float64\n",
            " 3   bedrooms       21613 non-null  int64  \n",
            " 4   bathrooms      21613 non-null  float64\n",
            " 5   sqft_living    21613 non-null  int64  \n",
            " 6   sqft_lot       21613 non-null  int64  \n",
            " 7   floors         21613 non-null  float64\n",
            " 8   waterfront     21613 non-null  int64  \n",
            " 9   view           21613 non-null  int64  \n",
            " 10  condition      21613 non-null  int64  \n",
            " 11  grade          21613 non-null  int64  \n",
            " 12  sqft_above     21613 non-null  int64  \n",
            " 13  sqft_basement  21613 non-null  int64  \n",
            " 14  yr_built       21613 non-null  int64  \n",
            " 15  yr_renovated   21613 non-null  int64  \n",
            " 16  zipcode        21613 non-null  int64  \n",
            " 17  lat            21613 non-null  float64\n",
            " 18  long           21613 non-null  float64\n",
            " 19  sqft_living15  21613 non-null  int64  \n",
            " 20  sqft_lot15     21613 non-null  int64  \n",
            "dtypes: float64(5), int64(15), object(1)\n",
            "memory usage: 3.5+ MB\n"
          ],
          "name": "stdout"
        }
      ]
    },
    {
      "cell_type": "code",
      "metadata": {
        "colab": {
          "base_uri": "https://localhost:8080/"
        },
        "id": "4MxjQhhbSIFM",
        "outputId": "0b969520-e427-46a2-9cbe-992d70865cec"
      },
      "source": [
        "z = np.abs(stats.zscore(data['price']))\n",
        "print(z)"
      ],
      "execution_count": 25,
      "outputs": [
        {
          "output_type": "stream",
          "text": [
            "[0.86671733 0.00568792 0.98084935 ... 0.37586519 0.38158814 0.58588173]\n"
          ],
          "name": "stdout"
        }
      ]
    },
    {
      "cell_type": "code",
      "metadata": {
        "colab": {
          "base_uri": "https://localhost:8080/",
          "height": 296
        },
        "id": "yWzCcf_MSIGg",
        "outputId": "0014274f-928f-4a7e-88d9-862f47c66d15"
      },
      "source": [
        "sns.boxplot(x=data['price'])"
      ],
      "execution_count": 26,
      "outputs": [
        {
          "output_type": "execute_result",
          "data": {
            "text/plain": [
              "<matplotlib.axes._subplots.AxesSubplot at 0x7f6919d93bd0>"
            ]
          },
          "metadata": {
            "tags": []
          },
          "execution_count": 26
        },
        {
          "output_type": "display_data",
          "data": {
            "image/png": "[encoded data removed]",
            "text/plain": [
              "<Figure size 432x288 with 1 Axes>"
            ]
          },
          "metadata": {
            "tags": [],
            "needs_background": "light"
          }
        }
      ]
    },
    {
      "cell_type": "code",
      "metadata": {
        "colab": {
          "base_uri": "https://localhost:8080/",
          "height": 215
        },
        "id": "h81zQkI_SIJ7",
        "outputId": "c6059d32-5ca3-41d7-fc4e-79cd0dceaff0"
      },
      "source": [
        "#sns.boxplot(y=data['Y'])\n",
        "df = pd.DataFrame(data=data)\n",
        "df.head()"
      ],
      "execution_count": 27,
      "outputs": [
        {
          "output_type": "execute_result",
          "data": {
            "text/html": [
              "<div>\n",
              "<style scoped>\n",
              "    .dataframe tbody tr th:only-of-type {\n",
              "        vertical-align: middle;\n",
              "    }\n",
              "\n",
              "    .dataframe tbody tr th {\n",
              "        vertical-align: top;\n",
              "    }\n",
              "\n",
              "    .dataframe thead th {\n",
              "        text-align: right;\n",
              "    }\n",
              "</style>\n",
              "<table border=\"1\" class=\"dataframe\">\n",
              "  <thead>\n",
              "    <tr style=\"text-align: right;\">\n",
              "      <th></th>\n",
              "      <th>id</th>\n",
              "      <th>date</th>\n",
              "      <th>price</th>\n",
              "      <th>bedrooms</th>\n",
              "      <th>bathrooms</th>\n",
              "      <th>sqft_living</th>\n",
              "      <th>sqft_lot</th>\n",
              "      <th>floors</th>\n",
              "      <th>waterfront</th>\n",
              "      <th>view</th>\n",
              "      <th>condition</th>\n",
              "      <th>grade</th>\n",
              "      <th>sqft_above</th>\n",
              "      <th>sqft_basement</th>\n",
              "      <th>yr_built</th>\n",
              "      <th>yr_renovated</th>\n",
              "      <th>zipcode</th>\n",
              "      <th>lat</th>\n",
              "      <th>long</th>\n",
              "      <th>sqft_living15</th>\n",
              "      <th>sqft_lot15</th>\n",
              "    </tr>\n",
              "  </thead>\n",
              "  <tbody>\n",
              "    <tr>\n",
              "      <th>0</th>\n",
              "      <td>7129300520</td>\n",
              "      <td>20141013T000000</td>\n",
              "      <td>221900.0</td>\n",
              "      <td>3</td>\n",
              "      <td>1.00</td>\n",
              "      <td>1180</td>\n",
              "      <td>5650</td>\n",
              "      <td>1.0</td>\n",
              "      <td>0</td>\n",
              "      <td>0</td>\n",
              "      <td>3</td>\n",
              "      <td>7</td>\n",
              "      <td>1180</td>\n",
              "      <td>0</td>\n",
              "      <td>1955</td>\n",
              "      <td>0</td>\n",
              "      <td>98178</td>\n",
              "      <td>47.5112</td>\n",
              "      <td>-122.257</td>\n",
              "      <td>1340</td>\n",
              "      <td>5650</td>\n",
              "    </tr>\n",
              "    <tr>\n",
              "      <th>1</th>\n",
              "      <td>6414100192</td>\n",
              "      <td>20141209T000000</td>\n",
              "      <td>538000.0</td>\n",
              "      <td>3</td>\n",
              "      <td>2.25</td>\n",
              "      <td>2570</td>\n",
              "      <td>7242</td>\n",
              "      <td>2.0</td>\n",
              "      <td>0</td>\n",
              "      <td>0</td>\n",
              "      <td>3</td>\n",
              "      <td>7</td>\n",
              "      <td>2170</td>\n",
              "      <td>400</td>\n",
              "      <td>1951</td>\n",
              "      <td>1991</td>\n",
              "      <td>98125</td>\n",
              "      <td>47.7210</td>\n",
              "      <td>-122.319</td>\n",
              "      <td>1690</td>\n",
              "      <td>7639</td>\n",
              "    </tr>\n",
              "    <tr>\n",
              "      <th>2</th>\n",
              "      <td>5631500400</td>\n",
              "      <td>20150225T000000</td>\n",
              "      <td>180000.0</td>\n",
              "      <td>2</td>\n",
              "      <td>1.00</td>\n",
              "      <td>770</td>\n",
              "      <td>10000</td>\n",
              "      <td>1.0</td>\n",
              "      <td>0</td>\n",
              "      <td>0</td>\n",
              "      <td>3</td>\n",
              "      <td>6</td>\n",
              "      <td>770</td>\n",
              "      <td>0</td>\n",
              "      <td>1933</td>\n",
              "      <td>0</td>\n",
              "      <td>98028</td>\n",
              "      <td>47.7379</td>\n",
              "      <td>-122.233</td>\n",
              "      <td>2720</td>\n",
              "      <td>8062</td>\n",
              "    </tr>\n",
              "    <tr>\n",
              "      <th>3</th>\n",
              "      <td>2487200875</td>\n",
              "      <td>20141209T000000</td>\n",
              "      <td>604000.0</td>\n",
              "      <td>4</td>\n",
              "      <td>3.00</td>\n",
              "      <td>1960</td>\n",
              "      <td>5000</td>\n",
              "      <td>1.0</td>\n",
              "      <td>0</td>\n",
              "      <td>0</td>\n",
              "      <td>5</td>\n",
              "      <td>7</td>\n",
              "      <td>1050</td>\n",
              "      <td>910</td>\n",
              "      <td>1965</td>\n",
              "      <td>0</td>\n",
              "      <td>98136</td>\n",
              "      <td>47.5208</td>\n",
              "      <td>-122.393</td>\n",
              "      <td>1360</td>\n",
              "      <td>5000</td>\n",
              "    </tr>\n",
              "    <tr>\n",
              "      <th>4</th>\n",
              "      <td>1954400510</td>\n",
              "      <td>20150218T000000</td>\n",
              "      <td>510000.0</td>\n",
              "      <td>3</td>\n",
              "      <td>2.00</td>\n",
              "      <td>1680</td>\n",
              "      <td>8080</td>\n",
              "      <td>1.0</td>\n",
              "      <td>0</td>\n",
              "      <td>0</td>\n",
              "      <td>3</td>\n",
              "      <td>8</td>\n",
              "      <td>1680</td>\n",
              "      <td>0</td>\n",
              "      <td>1987</td>\n",
              "      <td>0</td>\n",
              "      <td>98074</td>\n",
              "      <td>47.6168</td>\n",
              "      <td>-122.045</td>\n",
              "      <td>1800</td>\n",
              "      <td>7503</td>\n",
              "    </tr>\n",
              "  </tbody>\n",
              "</table>\n",
              "</div>"
            ],
            "text/plain": [
              "           id             date     price  ...     long  sqft_living15  sqft_lot15\n",
              "0  7129300520  20141013T000000  221900.0  ... -122.257           1340        5650\n",
              "1  6414100192  20141209T000000  538000.0  ... -122.319           1690        7639\n",
              "2  5631500400  20150225T000000  180000.0  ... -122.233           2720        8062\n",
              "3  2487200875  20141209T000000  604000.0  ... -122.393           1360        5000\n",
              "4  1954400510  20150218T000000  510000.0  ... -122.045           1800        7503\n",
              "\n",
              "[5 rows x 21 columns]"
            ]
          },
          "metadata": {
            "tags": []
          },
          "execution_count": 27
        }
      ]
    },
    {
      "cell_type": "code",
      "metadata": {
        "colab": {
          "base_uri": "https://localhost:8080/",
          "height": 215
        },
        "id": "kVs7qxQDSILN",
        "outputId": "e9eec465-696d-4c3d-a38b-ee666585c048"
      },
      "source": [
        "#f_data = data[(z < 100).all(axis=0)]\n",
        "#f_data.head\n",
        "x = df\n",
        "df.drop(['date'],axis=1)\n",
        "for i in df:\n",
        "    if i != 'date':\n",
        "        q = df[i].quantile(0.99)\n",
        "        df[df[i] < q]\n",
        "        q_low = df[i].quantile(0.01)\n",
        "        q_hi  = df[i].quantile(0.99)\n",
        "\n",
        "        df_filtered = df[(df[i] < q_hi) & (df[i] > q_low)]\n",
        "        \n",
        "df_filtered.head()"
      ],
      "execution_count": 28,
      "outputs": [
        {
          "output_type": "execute_result",
          "data": {
            "text/html": [
              "<div>\n",
              "<style scoped>\n",
              "    .dataframe tbody tr th:only-of-type {\n",
              "        vertical-align: middle;\n",
              "    }\n",
              "\n",
              "    .dataframe tbody tr th {\n",
              "        vertical-align: top;\n",
              "    }\n",
              "\n",
              "    .dataframe thead th {\n",
              "        text-align: right;\n",
              "    }\n",
              "</style>\n",
              "<table border=\"1\" class=\"dataframe\">\n",
              "  <thead>\n",
              "    <tr style=\"text-align: right;\">\n",
              "      <th></th>\n",
              "      <th>id</th>\n",
              "      <th>date</th>\n",
              "      <th>price</th>\n",
              "      <th>bedrooms</th>\n",
              "      <th>bathrooms</th>\n",
              "      <th>sqft_living</th>\n",
              "      <th>sqft_lot</th>\n",
              "      <th>floors</th>\n",
              "      <th>waterfront</th>\n",
              "      <th>view</th>\n",
              "      <th>condition</th>\n",
              "      <th>grade</th>\n",
              "      <th>sqft_above</th>\n",
              "      <th>sqft_basement</th>\n",
              "      <th>yr_built</th>\n",
              "      <th>yr_renovated</th>\n",
              "      <th>zipcode</th>\n",
              "      <th>lat</th>\n",
              "      <th>long</th>\n",
              "      <th>sqft_living15</th>\n",
              "      <th>sqft_lot15</th>\n",
              "    </tr>\n",
              "  </thead>\n",
              "  <tbody>\n",
              "    <tr>\n",
              "      <th>0</th>\n",
              "      <td>7129300520</td>\n",
              "      <td>20141013T000000</td>\n",
              "      <td>221900.0</td>\n",
              "      <td>3</td>\n",
              "      <td>1.00</td>\n",
              "      <td>1180</td>\n",
              "      <td>5650</td>\n",
              "      <td>1.0</td>\n",
              "      <td>0</td>\n",
              "      <td>0</td>\n",
              "      <td>3</td>\n",
              "      <td>7</td>\n",
              "      <td>1180</td>\n",
              "      <td>0</td>\n",
              "      <td>1955</td>\n",
              "      <td>0</td>\n",
              "      <td>98178</td>\n",
              "      <td>47.5112</td>\n",
              "      <td>-122.257</td>\n",
              "      <td>1340</td>\n",
              "      <td>5650</td>\n",
              "    </tr>\n",
              "    <tr>\n",
              "      <th>1</th>\n",
              "      <td>6414100192</td>\n",
              "      <td>20141209T000000</td>\n",
              "      <td>538000.0</td>\n",
              "      <td>3</td>\n",
              "      <td>2.25</td>\n",
              "      <td>2570</td>\n",
              "      <td>7242</td>\n",
              "      <td>2.0</td>\n",
              "      <td>0</td>\n",
              "      <td>0</td>\n",
              "      <td>3</td>\n",
              "      <td>7</td>\n",
              "      <td>2170</td>\n",
              "      <td>400</td>\n",
              "      <td>1951</td>\n",
              "      <td>1991</td>\n",
              "      <td>98125</td>\n",
              "      <td>47.7210</td>\n",
              "      <td>-122.319</td>\n",
              "      <td>1690</td>\n",
              "      <td>7639</td>\n",
              "    </tr>\n",
              "    <tr>\n",
              "      <th>2</th>\n",
              "      <td>5631500400</td>\n",
              "      <td>20150225T000000</td>\n",
              "      <td>180000.0</td>\n",
              "      <td>2</td>\n",
              "      <td>1.00</td>\n",
              "      <td>770</td>\n",
              "      <td>10000</td>\n",
              "      <td>1.0</td>\n",
              "      <td>0</td>\n",
              "      <td>0</td>\n",
              "      <td>3</td>\n",
              "      <td>6</td>\n",
              "      <td>770</td>\n",
              "      <td>0</td>\n",
              "      <td>1933</td>\n",
              "      <td>0</td>\n",
              "      <td>98028</td>\n",
              "      <td>47.7379</td>\n",
              "      <td>-122.233</td>\n",
              "      <td>2720</td>\n",
              "      <td>8062</td>\n",
              "    </tr>\n",
              "    <tr>\n",
              "      <th>3</th>\n",
              "      <td>2487200875</td>\n",
              "      <td>20141209T000000</td>\n",
              "      <td>604000.0</td>\n",
              "      <td>4</td>\n",
              "      <td>3.00</td>\n",
              "      <td>1960</td>\n",
              "      <td>5000</td>\n",
              "      <td>1.0</td>\n",
              "      <td>0</td>\n",
              "      <td>0</td>\n",
              "      <td>5</td>\n",
              "      <td>7</td>\n",
              "      <td>1050</td>\n",
              "      <td>910</td>\n",
              "      <td>1965</td>\n",
              "      <td>0</td>\n",
              "      <td>98136</td>\n",
              "      <td>47.5208</td>\n",
              "      <td>-122.393</td>\n",
              "      <td>1360</td>\n",
              "      <td>5000</td>\n",
              "    </tr>\n",
              "    <tr>\n",
              "      <th>4</th>\n",
              "      <td>1954400510</td>\n",
              "      <td>20150218T000000</td>\n",
              "      <td>510000.0</td>\n",
              "      <td>3</td>\n",
              "      <td>2.00</td>\n",
              "      <td>1680</td>\n",
              "      <td>8080</td>\n",
              "      <td>1.0</td>\n",
              "      <td>0</td>\n",
              "      <td>0</td>\n",
              "      <td>3</td>\n",
              "      <td>8</td>\n",
              "      <td>1680</td>\n",
              "      <td>0</td>\n",
              "      <td>1987</td>\n",
              "      <td>0</td>\n",
              "      <td>98074</td>\n",
              "      <td>47.6168</td>\n",
              "      <td>-122.045</td>\n",
              "      <td>1800</td>\n",
              "      <td>7503</td>\n",
              "    </tr>\n",
              "  </tbody>\n",
              "</table>\n",
              "</div>"
            ],
            "text/plain": [
              "           id             date     price  ...     long  sqft_living15  sqft_lot15\n",
              "0  7129300520  20141013T000000  221900.0  ... -122.257           1340        5650\n",
              "1  6414100192  20141209T000000  538000.0  ... -122.319           1690        7639\n",
              "2  5631500400  20150225T000000  180000.0  ... -122.233           2720        8062\n",
              "3  2487200875  20141209T000000  604000.0  ... -122.393           1360        5000\n",
              "4  1954400510  20150218T000000  510000.0  ... -122.045           1800        7503\n",
              "\n",
              "[5 rows x 21 columns]"
            ]
          },
          "metadata": {
            "tags": []
          },
          "execution_count": 28
        }
      ]
    },
    {
      "cell_type": "code",
      "metadata": {
        "colab": {
          "base_uri": "https://localhost:8080/"
        },
        "id": "WhfgRpY3SIOk",
        "outputId": "9095661e-bcef-4cca-e030-d0a73a40a639"
      },
      "source": [
        "print(len(df))\n",
        "print(len(df_filtered))\n",
        "if(len(df) == len(df_filtered)):\n",
        "    print('No outliners')\n",
        "data = df_filtered"
      ],
      "execution_count": 29,
      "outputs": [
        {
          "output_type": "stream",
          "text": [
            "21613\n",
            "21178\n"
          ],
          "name": "stdout"
        }
      ]
    },
    {
      "cell_type": "code",
      "metadata": {
        "colab": {
          "base_uri": "https://localhost:8080/",
          "height": 215
        },
        "id": "r-cgN1CWSZlz",
        "outputId": "459c77bb-303e-4627-a8e7-aca25f01a8e4"
      },
      "source": [
        "data_n = data.copy()\n",
        "for i in data:\n",
        "    if i!='date':\n",
        "        data_n[i] = data[i].copy()\n",
        "        data_n[i] = (data_n[i] - data_n[i].min())/(data_n[i].max() - data_n[i].min())\n",
        "data_n.head()"
      ],
      "execution_count": 30,
      "outputs": [
        {
          "output_type": "execute_result",
          "data": {
            "text/html": [
              "<div>\n",
              "<style scoped>\n",
              "    .dataframe tbody tr th:only-of-type {\n",
              "        vertical-align: middle;\n",
              "    }\n",
              "\n",
              "    .dataframe tbody tr th {\n",
              "        vertical-align: top;\n",
              "    }\n",
              "\n",
              "    .dataframe thead th {\n",
              "        text-align: right;\n",
              "    }\n",
              "</style>\n",
              "<table border=\"1\" class=\"dataframe\">\n",
              "  <thead>\n",
              "    <tr style=\"text-align: right;\">\n",
              "      <th></th>\n",
              "      <th>id</th>\n",
              "      <th>date</th>\n",
              "      <th>price</th>\n",
              "      <th>bedrooms</th>\n",
              "      <th>bathrooms</th>\n",
              "      <th>sqft_living</th>\n",
              "      <th>sqft_lot</th>\n",
              "      <th>floors</th>\n",
              "      <th>waterfront</th>\n",
              "      <th>view</th>\n",
              "      <th>condition</th>\n",
              "      <th>grade</th>\n",
              "      <th>sqft_above</th>\n",
              "      <th>sqft_basement</th>\n",
              "      <th>yr_built</th>\n",
              "      <th>yr_renovated</th>\n",
              "      <th>zipcode</th>\n",
              "      <th>lat</th>\n",
              "      <th>long</th>\n",
              "      <th>sqft_living15</th>\n",
              "      <th>sqft_lot15</th>\n",
              "    </tr>\n",
              "  </thead>\n",
              "  <tbody>\n",
              "    <tr>\n",
              "      <th>0</th>\n",
              "      <td>0.720103</td>\n",
              "      <td>20141013T000000</td>\n",
              "      <td>0.019266</td>\n",
              "      <td>0.090909</td>\n",
              "      <td>0.12500</td>\n",
              "      <td>0.075680</td>\n",
              "      <td>0.004338</td>\n",
              "      <td>0.0</td>\n",
              "      <td>0.0</td>\n",
              "      <td>0.0</td>\n",
              "      <td>0.5</td>\n",
              "      <td>0.500000</td>\n",
              "      <td>0.103851</td>\n",
              "      <td>0.000000</td>\n",
              "      <td>0.478261</td>\n",
              "      <td>0.000000</td>\n",
              "      <td>0.893939</td>\n",
              "      <td>0.571498</td>\n",
              "      <td>0.215000</td>\n",
              "      <td>0.153043</td>\n",
              "      <td>0.028583</td>\n",
              "    </tr>\n",
              "    <tr>\n",
              "      <th>1</th>\n",
              "      <td>0.647853</td>\n",
              "      <td>20141209T000000</td>\n",
              "      <td>0.060721</td>\n",
              "      <td>0.090909</td>\n",
              "      <td>0.28125</td>\n",
              "      <td>0.193878</td>\n",
              "      <td>0.005705</td>\n",
              "      <td>0.4</td>\n",
              "      <td>0.0</td>\n",
              "      <td>0.0</td>\n",
              "      <td>0.5</td>\n",
              "      <td>0.500000</td>\n",
              "      <td>0.219370</td>\n",
              "      <td>0.082988</td>\n",
              "      <td>0.443478</td>\n",
              "      <td>0.988089</td>\n",
              "      <td>0.626263</td>\n",
              "      <td>0.908959</td>\n",
              "      <td>0.163333</td>\n",
              "      <td>0.213913</td>\n",
              "      <td>0.041339</td>\n",
              "    </tr>\n",
              "    <tr>\n",
              "      <th>2</th>\n",
              "      <td>0.568795</td>\n",
              "      <td>20150225T000000</td>\n",
              "      <td>0.013770</td>\n",
              "      <td>0.060606</td>\n",
              "      <td>0.12500</td>\n",
              "      <td>0.040816</td>\n",
              "      <td>0.008074</td>\n",
              "      <td>0.0</td>\n",
              "      <td>0.0</td>\n",
              "      <td>0.0</td>\n",
              "      <td>0.5</td>\n",
              "      <td>0.416667</td>\n",
              "      <td>0.056009</td>\n",
              "      <td>0.000000</td>\n",
              "      <td>0.286957</td>\n",
              "      <td>0.000000</td>\n",
              "      <td>0.136364</td>\n",
              "      <td>0.936143</td>\n",
              "      <td>0.235000</td>\n",
              "      <td>0.393043</td>\n",
              "      <td>0.044052</td>\n",
              "    </tr>\n",
              "    <tr>\n",
              "      <th>3</th>\n",
              "      <td>0.251157</td>\n",
              "      <td>20141209T000000</td>\n",
              "      <td>0.069377</td>\n",
              "      <td>0.121212</td>\n",
              "      <td>0.37500</td>\n",
              "      <td>0.142007</td>\n",
              "      <td>0.003779</td>\n",
              "      <td>0.0</td>\n",
              "      <td>0.0</td>\n",
              "      <td>0.0</td>\n",
              "      <td>1.0</td>\n",
              "      <td>0.500000</td>\n",
              "      <td>0.088681</td>\n",
              "      <td>0.188797</td>\n",
              "      <td>0.565217</td>\n",
              "      <td>0.000000</td>\n",
              "      <td>0.681818</td>\n",
              "      <td>0.586939</td>\n",
              "      <td>0.101667</td>\n",
              "      <td>0.156522</td>\n",
              "      <td>0.024415</td>\n",
              "    </tr>\n",
              "    <tr>\n",
              "      <th>4</th>\n",
              "      <td>0.197333</td>\n",
              "      <td>20150218T000000</td>\n",
              "      <td>0.057049</td>\n",
              "      <td>0.090909</td>\n",
              "      <td>0.25000</td>\n",
              "      <td>0.118197</td>\n",
              "      <td>0.006425</td>\n",
              "      <td>0.0</td>\n",
              "      <td>0.0</td>\n",
              "      <td>0.0</td>\n",
              "      <td>0.5</td>\n",
              "      <td>0.583333</td>\n",
              "      <td>0.162194</td>\n",
              "      <td>0.000000</td>\n",
              "      <td>0.756522</td>\n",
              "      <td>0.000000</td>\n",
              "      <td>0.368687</td>\n",
              "      <td>0.741354</td>\n",
              "      <td>0.391667</td>\n",
              "      <td>0.233043</td>\n",
              "      <td>0.040467</td>\n",
              "    </tr>\n",
              "  </tbody>\n",
              "</table>\n",
              "</div>"
            ],
            "text/plain": [
              "         id             date     price  ...      long  sqft_living15  sqft_lot15\n",
              "0  0.720103  20141013T000000  0.019266  ...  0.215000       0.153043    0.028583\n",
              "1  0.647853  20141209T000000  0.060721  ...  0.163333       0.213913    0.041339\n",
              "2  0.568795  20150225T000000  0.013770  ...  0.235000       0.393043    0.044052\n",
              "3  0.251157  20141209T000000  0.069377  ...  0.101667       0.156522    0.024415\n",
              "4  0.197333  20150218T000000  0.057049  ...  0.391667       0.233043    0.040467\n",
              "\n",
              "[5 rows x 21 columns]"
            ]
          },
          "metadata": {
            "tags": []
          },
          "execution_count": 30
        }
      ]
    },
    {
      "cell_type": "code",
      "metadata": {
        "colab": {
          "base_uri": "https://localhost:8080/",
          "height": 232
        },
        "id": "aQnXYxKaSZi6",
        "outputId": "96daef8e-5252-41a8-c0a0-1b00755aee2d"
      },
      "source": [
        "train_data,test_data = train_test_split(data_n,test_size=0.1)\n",
        "print(len(train_data))\n",
        "train_data.head()"
      ],
      "execution_count": 31,
      "outputs": [
        {
          "output_type": "stream",
          "text": [
            "19060\n"
          ],
          "name": "stdout"
        },
        {
          "output_type": "execute_result",
          "data": {
            "text/html": [
              "<div>\n",
              "<style scoped>\n",
              "    .dataframe tbody tr th:only-of-type {\n",
              "        vertical-align: middle;\n",
              "    }\n",
              "\n",
              "    .dataframe tbody tr th {\n",
              "        vertical-align: top;\n",
              "    }\n",
              "\n",
              "    .dataframe thead th {\n",
              "        text-align: right;\n",
              "    }\n",
              "</style>\n",
              "<table border=\"1\" class=\"dataframe\">\n",
              "  <thead>\n",
              "    <tr style=\"text-align: right;\">\n",
              "      <th></th>\n",
              "      <th>id</th>\n",
              "      <th>date</th>\n",
              "      <th>price</th>\n",
              "      <th>bedrooms</th>\n",
              "      <th>bathrooms</th>\n",
              "      <th>sqft_living</th>\n",
              "      <th>sqft_lot</th>\n",
              "      <th>floors</th>\n",
              "      <th>waterfront</th>\n",
              "      <th>view</th>\n",
              "      <th>condition</th>\n",
              "      <th>grade</th>\n",
              "      <th>sqft_above</th>\n",
              "      <th>sqft_basement</th>\n",
              "      <th>yr_built</th>\n",
              "      <th>yr_renovated</th>\n",
              "      <th>zipcode</th>\n",
              "      <th>lat</th>\n",
              "      <th>long</th>\n",
              "      <th>sqft_living15</th>\n",
              "      <th>sqft_lot15</th>\n",
              "    </tr>\n",
              "  </thead>\n",
              "  <tbody>\n",
              "    <tr>\n",
              "      <th>7256</th>\n",
              "      <td>0.805506</td>\n",
              "      <td>20140610T000000</td>\n",
              "      <td>0.076656</td>\n",
              "      <td>0.090909</td>\n",
              "      <td>0.21875</td>\n",
              "      <td>0.130102</td>\n",
              "      <td>0.004209</td>\n",
              "      <td>0.0</td>\n",
              "      <td>0.0</td>\n",
              "      <td>0.0</td>\n",
              "      <td>0.75</td>\n",
              "      <td>0.583333</td>\n",
              "      <td>0.155193</td>\n",
              "      <td>0.041494</td>\n",
              "      <td>0.495652</td>\n",
              "      <td>0.0</td>\n",
              "      <td>0.575758</td>\n",
              "      <td>0.832878</td>\n",
              "      <td>0.193333</td>\n",
              "      <td>0.325217</td>\n",
              "      <td>0.031149</td>\n",
              "    </tr>\n",
              "    <tr>\n",
              "      <th>6676</th>\n",
              "      <td>0.249732</td>\n",
              "      <td>20140722T000000</td>\n",
              "      <td>0.026754</td>\n",
              "      <td>0.121212</td>\n",
              "      <td>0.25000</td>\n",
              "      <td>0.107993</td>\n",
              "      <td>0.005986</td>\n",
              "      <td>0.2</td>\n",
              "      <td>0.0</td>\n",
              "      <td>0.0</td>\n",
              "      <td>0.75</td>\n",
              "      <td>0.500000</td>\n",
              "      <td>0.148191</td>\n",
              "      <td>0.000000</td>\n",
              "      <td>0.573913</td>\n",
              "      <td>0.0</td>\n",
              "      <td>0.287879</td>\n",
              "      <td>0.472414</td>\n",
              "      <td>0.300000</td>\n",
              "      <td>0.177391</td>\n",
              "      <td>0.048496</td>\n",
              "    </tr>\n",
              "    <tr>\n",
              "      <th>17023</th>\n",
              "      <td>0.556086</td>\n",
              "      <td>20140618T000000</td>\n",
              "      <td>0.042623</td>\n",
              "      <td>0.090909</td>\n",
              "      <td>0.21875</td>\n",
              "      <td>0.064626</td>\n",
              "      <td>0.004767</td>\n",
              "      <td>0.2</td>\n",
              "      <td>0.0</td>\n",
              "      <td>0.0</td>\n",
              "      <td>0.75</td>\n",
              "      <td>0.416667</td>\n",
              "      <td>0.077013</td>\n",
              "      <td>0.020747</td>\n",
              "      <td>0.243478</td>\n",
              "      <td>0.0</td>\n",
              "      <td>0.580808</td>\n",
              "      <td>0.668490</td>\n",
              "      <td>0.100833</td>\n",
              "      <td>0.156522</td>\n",
              "      <td>0.031790</td>\n",
              "    </tr>\n",
              "    <tr>\n",
              "      <th>13800</th>\n",
              "      <td>0.289928</td>\n",
              "      <td>20141124T000000</td>\n",
              "      <td>0.091803</td>\n",
              "      <td>0.121212</td>\n",
              "      <td>0.31250</td>\n",
              "      <td>0.235544</td>\n",
              "      <td>0.005348</td>\n",
              "      <td>0.4</td>\n",
              "      <td>0.0</td>\n",
              "      <td>0.0</td>\n",
              "      <td>0.50</td>\n",
              "      <td>0.666667</td>\n",
              "      <td>0.323221</td>\n",
              "      <td>0.000000</td>\n",
              "      <td>0.904348</td>\n",
              "      <td>0.0</td>\n",
              "      <td>0.257576</td>\n",
              "      <td>0.876146</td>\n",
              "      <td>0.335833</td>\n",
              "      <td>0.460870</td>\n",
              "      <td>0.036805</td>\n",
              "    </tr>\n",
              "    <tr>\n",
              "      <th>17637</th>\n",
              "      <td>0.340337</td>\n",
              "      <td>20140804T000000</td>\n",
              "      <td>0.047869</td>\n",
              "      <td>0.121212</td>\n",
              "      <td>0.31250</td>\n",
              "      <td>0.213435</td>\n",
              "      <td>0.023754</td>\n",
              "      <td>0.4</td>\n",
              "      <td>0.0</td>\n",
              "      <td>0.0</td>\n",
              "      <td>0.50</td>\n",
              "      <td>0.666667</td>\n",
              "      <td>0.292882</td>\n",
              "      <td>0.000000</td>\n",
              "      <td>0.878261</td>\n",
              "      <td>0.0</td>\n",
              "      <td>0.186869</td>\n",
              "      <td>0.320573</td>\n",
              "      <td>0.376667</td>\n",
              "      <td>0.360000</td>\n",
              "      <td>0.022452</td>\n",
              "    </tr>\n",
              "  </tbody>\n",
              "</table>\n",
              "</div>"
            ],
            "text/plain": [
              "             id             date     price  ...      long  sqft_living15  sqft_lot15\n",
              "7256   0.805506  20140610T000000  0.076656  ...  0.193333       0.325217    0.031149\n",
              "6676   0.249732  20140722T000000  0.026754  ...  0.300000       0.177391    0.048496\n",
              "17023  0.556086  20140618T000000  0.042623  ...  0.100833       0.156522    0.031790\n",
              "13800  0.289928  20141124T000000  0.091803  ...  0.335833       0.460870    0.036805\n",
              "17637  0.340337  20140804T000000  0.047869  ...  0.376667       0.360000    0.022452\n",
              "\n",
              "[5 rows x 21 columns]"
            ]
          },
          "metadata": {
            "tags": []
          },
          "execution_count": 31
        }
      ]
    },
    {
      "cell_type": "code",
      "metadata": {
        "id": "w6kVIZeUS8Ri"
      },
      "source": [
        "xa = np.array(train_data['sqft_living'])\n",
        "ya = np.array(train_data['price'])"
      ],
      "execution_count": 32,
      "outputs": []
    },
    {
      "cell_type": "code",
      "metadata": {
        "colab": {
          "base_uri": "https://localhost:8080/"
        },
        "id": "ux7j3OjsSZfp",
        "outputId": "7ae7d391-3123-4a3f-9f8e-2a6898be3b4c"
      },
      "source": [
        "#Train data\n",
        "from sympy import Symbol, Derivative, symbols\n",
        "m= Symbol('m')\n",
        "c= Symbol('c')\n",
        "function = '0.5*(y-m*x-c)**2'\n",
        "partialderiv= Derivative(function, m)\n",
        "dfm = partialderiv.doit()\n",
        "partialderiv= Derivative(function, c)\n",
        "dfc = partialderiv.doit()\n",
        "\n",
        "print(f'first order derivatives of given function are de/dm = {dfm} ,de/dc = {dfc}')\n",
        "err = []\n",
        "#step 1 initialise values\n",
        "bs = 2\n",
        "m1 = 1.0 \n",
        "c1 = -1.0  #variable x, y\n",
        "itr = 25  #epoches\n",
        "learning_rate = 0.1  #learning rate\n",
        "\n",
        "ns = len(xa)\n",
        "nb = ns//bs\n",
        "ms = ns%bs\n",
        "\n",
        "\n",
        "for i in range(0,itr):\n",
        "    for k in range(0,nb):\n",
        "        er = 0\n",
        "        dfmv1 = 0\n",
        "        dfcv1 = 0\n",
        "        for j in range(0,bs):\n",
        "            er +=  ((ya[j] - (m1 * xa[j]) - c1))**2\n",
        "            index = k*bs + j\n",
        "            #step 2 substitute x ,y in first order derivatives df/dx, df/dy\n",
        "            m = symbols('m')\n",
        "            c = symbols('c')\n",
        "            x = symbols('x')\n",
        "            y = symbols('y')\n",
        "            dfmv = dfm.subs(m, m1) \n",
        "            dfmv = dfmv.subs(c, c1) \n",
        "            dfmv = dfmv.subs(x, xa[index]) \n",
        "            dfmv = dfmv.subs(y, ya[index]) \n",
        "            dfmv = round(dfmv,2)\n",
        "            dfcv = dfc.subs(c, c1) \n",
        "            dfcv = dfcv.subs(m, m1) \n",
        "            dfcv = dfcv.subs(x, xa[index]) \n",
        "            dfcv = dfcv.subs(y, ya[index]) \n",
        "            dfcv = round(dfcv,2)\n",
        "            dfmv1 += dfmv\n",
        "            dfcv1 += dfcv\n",
        "            \n",
        "        dfmv1 = dfmv1/bs\n",
        "        dfcv1 = dfcv1/bs\n",
        "\n",
        "        dfmv1 = round(dfmv1,2)\n",
        "        dfcv1 = round(dfcv1,2)\n",
        "        #step3 find change in x , y\n",
        "        dm = (-1.0)*learning_rate*dfmv1\n",
        "        dc = (-1.0)*learning_rate*dfcv1\n",
        "        #step4 update variable \n",
        "        m1 = m1 + dm \n",
        "        c1 = c1 + dc\n",
        "        \n",
        "        er = (1/(2*len(train_data['sqft_living'])))*(er)\n",
        "        err.append(er)\n",
        "        #step5 increment iterations \n",
        "        #step6 break loop if iterations exceed no of epoches\n",
        "k = nb\n",
        "if(ms>0):\n",
        "    er = 0\n",
        "    dfmv1 = 0\n",
        "    dfcv1 = 0\n",
        "    for j in range(0,ms):\n",
        "        \n",
        "        er +=  ((ya[j] - (m1 * xa[j]) - c1))**2\n",
        "        index = k*bs + j\n",
        "        #step 2 substitute x ,y in first order derivatives df/dx, df/dy\n",
        "        m = symbols('m')\n",
        "        c = symbols('c')\n",
        "        x = symbols('x')\n",
        "        y = symbols('y')\n",
        "        dfmv = dfm.subs(m, m1) \n",
        "        dfmv = dfmv.subs(c, c1) \n",
        "        dfmv = dfmv.subs(x, xa[index]) \n",
        "        dfmv = dfmv.subs(y, ya[index]) \n",
        "        dfcv = dfc.subs(c, c1) \n",
        "        dfcv = dfcv.subs(m, m1) \n",
        "        dfcv = dfcv.subs(x, xa[index]) \n",
        "        dfcv = dfcv.subs(y, ya[index]) \n",
        "        dfmv1 += dfmv\n",
        "        dfcv1 += dfcv\n",
        "\n",
        "    dfmv1 = dfmv1/ms\n",
        "    dfcv1 = dfcv1/ms\n",
        "\n",
        "    #step3 find change in x , y\n",
        "    dm = (-1.0)*learning_rate*dfmv1\n",
        "    dc = (-1.0)*learning_rate*dfcv1\n",
        "    #step4 update variable \n",
        "    m1 = m1 + dm \n",
        "    c1 = c1 + dc\n",
        "    \n",
        "    er = (1/(2*len(train_data['sqft_living'])))*(er)\n",
        "    err.append(er)\n",
        "#step7 print variable x1, y1\n",
        "m1= round(m1,2)\n",
        "c1= round(c1,2)\n",
        "print(m1, c1)\n",
        "print(f'minimum value obtained at m = {m1} ,c ={c1} for given function')\n"
      ],
      "execution_count": 34,
      "outputs": [
        {
          "output_type": "stream",
          "text": [
            "first order derivatives of given function are de/dm = -1.0*x*(-c - m*x + y) ,de/dc = 1.0*c + 1.0*m*x - 1.0*y\n",
            "0.32 0.01\n",
            "minimum value obtained at m = 0.32 ,c =0.01 for given function\n"
          ],
          "name": "stdout"
        }
      ]
    },
    {
      "cell_type": "code",
      "metadata": {
        "colab": {
          "base_uri": "https://localhost:8080/"
        },
        "id": "cH9rY-OoSZeT",
        "outputId": "af4cd256-2064-4d8d-caa9-c818604d02b7"
      },
      "source": [
        "#RMSE for training data\n",
        "train_data_pred = [i for i in xa]\n",
        "for k in range(len(xa)):\n",
        "    train_data_pred[k]=(m1*xa[k] + c1)\n",
        "from sklearn.metrics import mean_squared_error\n",
        "mse = mean_squared_error(ya,train_data_pred)\n",
        "mse"
      ],
      "execution_count": 35,
      "outputs": [
        {
          "output_type": "execute_result",
          "data": {
            "text/plain": [
              "0.0012884464436801882"
            ]
          },
          "metadata": {
            "tags": []
          },
          "execution_count": 35
        }
      ]
    },
    {
      "cell_type": "code",
      "metadata": {
        "colab": {
          "base_uri": "https://localhost:8080/",
          "height": 298
        },
        "id": "H4Vr78G9SIRb",
        "outputId": "7bb5b3dc-f5fd-4e2b-adeb-dd9375f0a7fb"
      },
      "source": [
        "plt.plot(np.array(train_data['sqft_living']),np.array(train_data_pred),'red')\n",
        "plt.scatter(np.array(train_data['sqft_living']),np.array(train_data['price']),color='blue')\n",
        "plt.title('predicted data vs actual data')"
      ],
      "execution_count": 36,
      "outputs": [
        {
          "output_type": "execute_result",
          "data": {
            "text/plain": [
              "Text(0.5, 1.0, 'predicted data vs actual data')"
            ]
          },
          "metadata": {
            "tags": []
          },
          "execution_count": 36
        },
        {
          "output_type": "display_data",
          "data": {
            "image/png": "[encoded data removed]",
            "text/plain": [
              "<Figure size 432x288 with 1 Axes>"
            ]
          },
          "metadata": {
            "tags": [],
            "needs_background": "light"
          }
        }
      ]
    },
    {
      "cell_type": "code",
      "metadata": {
        "colab": {
          "base_uri": "https://localhost:8080/",
          "height": 295
        },
        "id": "A-tcuhFvUJH2",
        "outputId": "ec241920-3607-46fb-cf7d-00e27a36bfed"
      },
      "source": [
        "iters = np.arange(itr*nb)\n",
        "plt.plot(iters,err,'green')\n",
        "plt.title(\"Error graph for training data\")\n",
        "plt.xlabel(\"iteration count\")\n",
        "plt.ylabel(\"error\")\n",
        "plt.grid()"
      ],
      "execution_count": 37,
      "outputs": [
        {
          "output_type": "display_data",
          "data": {
            "image/png": "[encoded data removed]",
            "text/plain": [
              "<Figure size 432x288 with 1 Axes>"
            ]
          },
          "metadata": {
            "tags": [],
            "needs_background": "light"
          }
        }
      ]
    },
    {
      "cell_type": "code",
      "metadata": {
        "colab": {
          "base_uri": "https://localhost:8080/"
        },
        "id": "QYtE2WbHUJFA",
        "outputId": "ff399c3c-49ca-4d5a-b5a9-92a687147032"
      },
      "source": [
        "xa = np.array(test_data['sqft_living'])\n",
        "ya = np.array(test_data['price'])\n",
        "\n",
        "test_data_pred = [i for i in xa]\n",
        "for k in range(len(xa)):\n",
        "    test_data_pred[k]=(m1*xa[k] + c1)\n",
        "from sklearn.metrics import mean_squared_error\n",
        "mse = mean_squared_error(ya,test_data_pred)\n",
        "mse"
      ],
      "execution_count": 38,
      "outputs": [
        {
          "output_type": "execute_result",
          "data": {
            "text/plain": [
              "0.0011565870014212728"
            ]
          },
          "metadata": {
            "tags": []
          },
          "execution_count": 38
        }
      ]
    },
    {
      "cell_type": "code",
      "metadata": {
        "colab": {
          "base_uri": "https://localhost:8080/",
          "height": 265
        },
        "id": "lH_r1ezqUJBr",
        "outputId": "05d8dff6-0885-43ec-abe1-6827ff874dcf"
      },
      "source": [
        "plt.plot(test_data['price'],test_data_pred,'b')\n",
        "plt.grid()"
      ],
      "execution_count": 39,
      "outputs": [
        {
          "output_type": "display_data",
          "data": {
            "image/png": "[encoded data removed]",
            "text/plain": [
              "<Figure size 432x288 with 1 Axes>"
            ]
          },
          "metadata": {
            "tags": [],
            "needs_background": "light"
          }
        }
      ]
    },
    {
      "cell_type": "code",
      "metadata": {
        "id": "2zwZF5ALUJAj"
      },
      "source": [
        "x_min = data['sqft_living'].min()\n",
        "x_max = data['sqft_living'].max()\n",
        "y_min = data['price'].min()\n",
        "y_max = data['price'].max()"
      ],
      "execution_count": 40,
      "outputs": []
    },
    {
      "cell_type": "code",
      "metadata": {
        "colab": {
          "base_uri": "https://localhost:8080/"
        },
        "id": "BSAzvtn4UI9b",
        "outputId": "97dfd8ac-f56d-48c7-91ee-7248e847465b"
      },
      "source": [
        "x1 = float(input(\"enter sqrt feet values sqft_living , sqft_lot, sqft_above, sqft_basement, sqft_living15, sqft_lot15 value :\"))\n",
        "\n",
        "x1 = (x1 - x_min)/(x_max - x_min)\n",
        "y = m1*x1+c1\n",
        "y = y*(y_max - y_min) + y_min\n",
        "print(f\"price  is : {y}\")"
      ],
      "execution_count": 41,
      "outputs": [
        {
          "output_type": "stream",
          "text": [
            "enter sqrt feet values sqft_living , sqft_lot, sqft_above, sqft_basement, sqft_living15, sqft_lot15 value :1500\n",
            "price  is : 402240.976346593\n"
          ],
          "name": "stdout"
        }
      ]
    }
  ]
}