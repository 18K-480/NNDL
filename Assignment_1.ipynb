{
  "nbformat": 4,
  "nbformat_minor": 0,
  "metadata": {
    "colab": {
      "name": "Assignment_1",
      "provenance": [],
      "collapsed_sections": [],
      "authorship_tag": "ABX9TyPNt4WDWZsIuto1R8F0OtRe",
      "include_colab_link": true
    },
    "kernelspec": {
      "name": "python3",
      "display_name": "Python 3"
    }
  },
  "cells": [
    {
      "cell_type": "markdown",
      "metadata": {
        "id": "view-in-github",
        "colab_type": "text"
      },
      "source": [
        "<a href=\"https://colab.research.google.com/github/18K-480/NNDL/blob/main/Assignment_1.ipynb\" target=\"_parent\"><img src=\"https://colab.research.google.com/assets/colab-badge.svg\" alt=\"Open In Colab\"/></a>"
      ]
    },
    {
      "cell_type": "code",
      "metadata": {
        "colab": {
          "base_uri": "https://localhost:8080/"
        },
        "id": "fW4ffdJMLTFi",
        "outputId": "95139d32-2e58-4fa8-9acc-c4812f61de8d"
      },
      "source": [
        "from sympy import *\n",
        "x= Symbol('x')\n",
        "y=diff(x**4+3*x**2+10,x)\n",
        "print(f'First order derivative of function is')\n",
        "z=1.0\n",
        "itr=20\n",
        "learningrate=0.1\n",
        "for i in range (0,itr):\n",
        "  x=symbols('x')\n",
        "  df=y.subs(x,z)\n",
        "  df=round(df,2)\n",
        "  dx=(-1.0)*learningrate*df\n",
        "  z=z+dx\n",
        "  x1=round(z,2)\n",
        "print(z)\n",
        "print(f'minimum value obtained at x ={z} for function')\n",
        "fn=x**4+3*x**2+10\n",
        "print(f'value for function(f(x)) at minimum value x={z} is {fn.subs(x,z)}')"
      ],
      "execution_count": null,
      "outputs": [
        {
          "output_type": "stream",
          "text": [
            "First order derivative of function is\n",
            "0.0\n",
            "minimum value obtained at x =0.0 for function\n",
            "value for function(f(x)) at minimum value x=0.0 is 10\n"
          ],
          "name": "stdout"
        }
      ]
    }
  ]
}